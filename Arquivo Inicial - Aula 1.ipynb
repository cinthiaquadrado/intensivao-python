{
 "cells": [
  {
   "cell_type": "markdown",
   "metadata": {},
   "source": [
    "# Automação de Sistemas e Processos com Python\n",
    "\n",
    "### Desafio:\n",
    "\n",
    "Todos os dias, o nosso sistema atualiza as vendas do dia anterior.\n",
    "O seu trabalho diário, como analista, é enviar um e-mail para a diretoria, assim que começar a trabalhar, com o faturamento e a quantidade de produtos vendidos no dia anterior\n",
    "\n",
    "E-mail da diretoria: seugmail+diretoria@gmail.com<br>\n",
    "Local onde o sistema disponibiliza as vendas do dia anterior: https://drive.google.com/drive/folders/149xknr9JvrlEnhNWO49zPcw0PW5icxga?usp=sharing\n",
    "\n",
    "Para resolver isso, vamos usar o pyautogui, uma biblioteca de automação de comandos do mouse e do teclado"
   ]
  },
  {
   "cell_type": "code",
   "execution_count": 5,
   "metadata": {},
   "outputs": [],
   "source": [
    "import pyautogui\n",
    "import pyperclip\n",
    "import time\n",
    "\n",
    "# pyautogui.click -> clicar\n",
    "# pyautogui.write -> escrever\n",
    "# pyautogui.press -> pressionar\n",
    "# pyautogui.hotkey -> atalho\n",
    "\n",
    "#Entrar no sistema da empresa para pegar a base de dados\n",
    "pyautogui.PAUSE = 2\n",
    "pyautogui.press('winleft')\n",
    "pyautogui.write('chrome')\n",
    "pyautogui.press('enter')\n",
    "pyperclip.copy('https://drive.google.com/drive/folders/149xknr9JvrlEnhNWO49zPcw0PW5icxga?usp=sharing')\n",
    "pyautogui.hotkey('ctrl', 'v')\n",
    "pyautogui.press('enter')\n",
    "\n",
    "#Navegar até o local do relatório (pasta Exportar)\n",
    "time.sleep(2)\n",
    "pyautogui.click(x=333, y=269, clicks=2)\n",
    "time.sleep(2)\n",
    "\n",
    "#Exportar o relatório (fazer o download)\n",
    "pyautogui.click(x=445, y=326)\n",
    "pyautogui.click(x=1156, y=163)\n",
    "pyautogui.click(x=1019, y=564)\n",
    "time.sleep(2)\n"
   ]
  },
  {
   "cell_type": "markdown",
   "metadata": {},
   "source": [
    "### Vamos agora ler o arquivo baixado para pegar os indicadores\n",
    "\n",
    "- Faturamento\n",
    "- Quantidade de Produtos"
   ]
  },
  {
   "cell_type": "code",
   "execution_count": 6,
   "metadata": {},
   "outputs": [
    {
     "name": "stdout",
     "output_type": "stream",
     "text": [
      "2917311\n",
      "15227\n"
     ]
    }
   ],
   "source": [
    "#Calcular os indicadores\n",
    "import pandas\n",
    "\n",
    "tb = pandas.read_excel(r'C:\\Users\\cinth\\Desktop\\Downloads\\Vendas - Dez.xlsx') #caminho do arquivo\n",
    "tb\n",
    "\n",
    "faturamento = tb['Valor Final'].sum()\n",
    "quantidade = tb['Quantidade'].sum()\n",
    "\n",
    "print(faturamento)\n",
    "print(quantidade)"
   ]
  },
  {
   "cell_type": "markdown",
   "metadata": {},
   "source": [
    "### Vamos agora enviar um e-mail pelo gmail"
   ]
  },
  {
   "cell_type": "code",
   "execution_count": 7,
   "metadata": {},
   "outputs": [],
   "source": [
    "#Enviar o e-mail para a diretoria\n",
    "\n",
    "#Abrir aba e entrar no email\n",
    "pyautogui.hotkey('ctrl', 't')\n",
    "pyperclip.copy('https://mail.google.com/mail/u/0/?tab=rm&ogbl#inbox')\n",
    "pyautogui.hotkey('ctrl', 'v')\n",
    "pyautogui.press('enter')\n",
    "time.sleep(2)\n",
    "\n",
    "#Clicar no botão Escrever\n",
    "pyautogui.click(x=61, y=168)\n",
    "\n",
    "#Escrever o email do diretor\n",
    "pyautogui.write('cinthia.quadrado@gmail.com')\n",
    "pyautogui.press('tab')\n",
    "pyautogui.press('tab')\n",
    "\n",
    "#Escrever o título\n",
    "pyautogui.write('Faturamento e vendas')\n",
    "pyautogui.press('tab')\n",
    "\n",
    "#Escrever o email\n",
    "texto = f'''Prezados. Tudo bem?\n",
    "\n",
    "O faturamento de ontem foi de: R$ {faturamento:,.2f}.\n",
    "A quantidade de produtos foi de: {quantidade:,}.\n",
    "\n",
    "Abraços, \n",
    "Cinthia.'''\n",
    "\n",
    "pyperclip.copy(texto)\n",
    "pyautogui.hotkey('ctrl', 'v')\n",
    "\n",
    "#Clicar em enviar\n",
    "pyautogui.hotkey('ctrl', 'enter')"
   ]
  },
  {
   "cell_type": "markdown",
   "metadata": {},
   "source": [
    "#### Use esse código para descobrir qual a posição de um item que queira clicar\n",
    "\n",
    "- Lembre-se: a posição na sua tela é diferente da posição na minha tela"
   ]
  },
  {
   "cell_type": "code",
   "execution_count": 8,
   "metadata": {},
   "outputs": [
    {
     "data": {
      "text/plain": [
       "Point(x=61, y=168)"
      ]
     },
     "execution_count": 8,
     "metadata": {},
     "output_type": "execute_result"
    }
   ],
   "source": [
    "pyautogui.position()"
   ]
  }
 ],
 "metadata": {
  "kernelspec": {
   "display_name": "Python 3",
   "language": "python",
   "name": "python3"
  },
  "language_info": {
   "codemirror_mode": {
    "name": "ipython",
    "version": 3
   },
   "file_extension": ".py",
   "mimetype": "text/x-python",
   "name": "python",
   "nbconvert_exporter": "python",
   "pygments_lexer": "ipython3",
   "version": "3.9.13"
  },
  "vscode": {
   "interpreter": {
    "hash": "a6c5c6fb0e828869b8b55fd2273651c918913addc2c2da271857dd9556f18623"
   }
  }
 },
 "nbformat": 4,
 "nbformat_minor": 4
}
